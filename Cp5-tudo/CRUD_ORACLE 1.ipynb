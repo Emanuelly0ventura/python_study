{
  "cells": [
    {
      "cell_type": "code",
      "execution_count": null,
      "metadata": {
        "colab": {
          "base_uri": "https://localhost:8080/"
        },
        "id": "4PZbAhcOi5Tt",
        "outputId": "08cb9ca8-0dbd-43c9-e8d5-96c454a8b5a9"
      },
      "outputs": [
        {
          "name": "stdout",
          "output_type": "stream",
          "text": [
            "Collecting oracledb\n",
            "  Downloading oracledb-3.3.0-cp312-cp312-manylinux2014_x86_64.manylinux_2_17_x86_64.manylinux_2_28_x86_64.whl.metadata (6.7 kB)\n",
            "Requirement already satisfied: cryptography>=3.2.1 in /usr/local/lib/python3.12/dist-packages (from oracledb) (43.0.3)\n",
            "Requirement already satisfied: cffi>=1.12 in /usr/local/lib/python3.12/dist-packages (from cryptography>=3.2.1->oracledb) (1.17.1)\n",
            "Requirement already satisfied: pycparser in /usr/local/lib/python3.12/dist-packages (from cffi>=1.12->cryptography>=3.2.1->oracledb) (2.22)\n",
            "Downloading oracledb-3.3.0-cp312-cp312-manylinux2014_x86_64.manylinux_2_17_x86_64.manylinux_2_28_x86_64.whl (2.5 MB)\n",
            "\u001b[?25l   \u001b[90m━━━━━━━━━━━━━━━━━━━━━━━━━━━━━━━━━━━━━━━━\u001b[0m \u001b[32m0.0/2.5 MB\u001b[0m \u001b[31m?\u001b[0m eta \u001b[36m-:--:--\u001b[0m\r\u001b[2K   \u001b[91m━━━━━━━━━━━━━━━━━━━━━━━━━━━━━━━━━━━━━━━\u001b[0m\u001b[91m╸\u001b[0m \u001b[32m2.5/2.5 MB\u001b[0m \u001b[31m136.8 MB/s\u001b[0m eta \u001b[36m0:00:01\u001b[0m\r\u001b[2K   \u001b[90m━━━━━━━━━━━━━━━━━━━━━━━━━━━━━━━━━━━━━━━━\u001b[0m \u001b[32m2.5/2.5 MB\u001b[0m \u001b[31m66.4 MB/s\u001b[0m eta \u001b[36m0:00:00\u001b[0m\n",
            "\u001b[?25hInstalling collected packages: oracledb\n",
            "Successfully installed oracledb-3.3.0\n"
          ]
        }
      ],
      "source": [
        "#!pip install oracledb"
      ]
    },
    {
      "cell_type": "code",
      "execution_count": 5,
      "metadata": {
        "id": "zStfZzfpaIGp"
      },
      "outputs": [],
      "source": [
        "def digita_inteiro(texto):\n",
        "  while True:\n",
        "    try:\n",
        "      inteiro = int(input(texto).strip())\n",
        "      return inteiro\n",
        "    except ValueError:\n",
        "      print(\"Entrada inválida. Por favor, digite um número inteiro.\")"
      ]
    },
    {
      "cell_type": "code",
      "execution_count": 17,
      "metadata": {
        "id": "R52qF-1akmOr"
      },
      "outputs": [],
      "source": [
        "import json\n",
        "import pandas as pd\n",
        "import oracledb\n",
        "from pathlib import Path\n",
        "import os\n",
        "\n",
        "def start_conn():\n",
        "    try:\n",
        "        DATA_FILE = \"oracle_conn.json\"\n",
        "        file = open(DATA_FILE, 'r')\n",
        "        xfile = json.load(file)\n",
        "\n",
        "        connection = oracledb.connect(\n",
        "            user=xfile[0][\"user\"],\n",
        "            password=xfile[0][\"password\"],\n",
        "            dsn=xfile[0][\"dsn\"]\n",
        "        )\n",
        "\n",
        "        cursor = connection.cursor()\n",
        "        print(\"Conexão bem-sucedida!\")\n",
        "        return connection, cursor\n",
        "\n",
        "    except FileNotFoundError:\n",
        "        print('Arquivo não encontrado. Verifique o caminho.')\n",
        "        return None, None\n",
        "\n",
        "    except json.JSONDecodeError:\n",
        "        print('Erro ao decodificar o arquivo JSON. Verifique a sintaxe.')\n",
        "        return None, None\n",
        "\n",
        "    except KeyError as e:\n",
        "        print(f'Chave ausente no JSON: {e}')\n",
        "        return None, None\n",
        "\n",
        "    except oracledb.DatabaseError as e:\n",
        "        error, = e.args\n",
        "        print(\"Erro de banco de dados:\", error.message)\n",
        "        return None, None\n",
        "\n",
        "    except Exception as e:\n",
        "        print(\"Erro inesperado:\", e)\n",
        "        return None, None"
      ]
    },
    {
      "cell_type": "code",
      "execution_count": 18,
      "metadata": {
        "colab": {
          "base_uri": "https://localhost:8080/"
        },
        "id": "RLn4xagYnflQ",
        "outputId": "1438e161-014c-4e1d-f337-838bf1ab48e9"
      },
      "outputs": [
        {
          "name": "stdout",
          "output_type": "stream",
          "text": [
            "Conexão bem-sucedida!\n"
          ]
        }
      ],
      "source": [
        "connection, cursor = start_conn()"
      ]
    },
    {
      "cell_type": "code",
      "execution_count": 19,
      "metadata": {
        "id": "y-FN6Yq6aCqj"
      },
      "outputs": [],
      "source": [
        "def insert_record():\n",
        "\n",
        "    nome = input(\"Digite o nome: \").strip()\n",
        "    sobrenome = input(\"Digite o sobrenome: \").strip()\n",
        "    telefone = digita_inteiro(\"Digite o telefone: \")\n",
        "\n",
        "    try:\n",
        "        # Verifica se a tabela \"AGENDA\" já existe\n",
        "        check_table_query = \"\"\"\n",
        "        SELECT table_name FROM user_tables WHERE table_name = 'AGENDA'\n",
        "        \"\"\"\n",
        "        cursor.execute(check_table_query)\n",
        "        result = cursor.fetchone()\n",
        "\n",
        "        if result:\n",
        "            print(\"A tabela 'AGENDA' já existe.\")\n",
        "        else:\n",
        "            # Criação da tabela\n",
        "            create_table_query = '''\n",
        "            CREATE TABLE AGENDA (\n",
        "                id NUMBER GENERATED BY DEFAULT AS IDENTITY PRIMARY KEY,\n",
        "                nome VARCHAR2(50),\n",
        "                sobrenome VARCHAR2(50),\n",
        "                telefone VARCHAR2(50)\n",
        "            )\n",
        "            '''\n",
        "            cursor.execute(create_table_query)\n",
        "            print(\"Tabela 'AGENDA' criada com sucesso.\")\n",
        "\n",
        "    except oracledb.DatabaseError as e:\n",
        "        error, = e.args\n",
        "        print(\"Erro de banco de dados:\", error.message)\n",
        "\n",
        "    except Exception as e:\n",
        "        print(\"Erro inesperado:\", e)\n",
        "\n",
        "    try:\n",
        "        # Inserção de um novo registro\n",
        "        insert_query = '''\n",
        "        INSERT INTO AGENDA (nome, sobrenome, telefone)\n",
        "        VALUES (:nome, :sobrenome, :telefone)\n",
        "        '''\n",
        "\n",
        "        cursor.execute(insert_query, nome=nome, sobrenome=sobrenome, telefone=telefone)\n",
        "        connection.commit()\n",
        "        print(\"Registro inserido com sucesso!\")\n",
        "\n",
        "    except oracledb.DatabaseError as e:\n",
        "        error, = e.args\n",
        "        print(\"Erro de banco de dados:\", error.message)\n",
        "\n",
        "    except Exception as e:\n",
        "        print(\"Erro inesperado:\", e)"
      ]
    },
    {
      "cell_type": "code",
      "execution_count": 34,
      "metadata": {
        "colab": {
          "base_uri": "https://localhost:8080/"
        },
        "id": "Sepl_yLqmPxx",
        "outputId": "f9b777d8-6d54-4108-d729-1b86c9f4bd19"
      },
      "outputs": [
        {
          "name": "stdout",
          "output_type": "stream",
          "text": [
            "Digite o nome: Joao\n",
            "Digite o sobrenome: Silva\n",
            "Digite o telefone: 345345453\n",
            "A tabela 'AGENDA' já existe.\n",
            "Registro inserido com sucesso!\n"
          ]
        }
      ],
      "source": [
        "insert_record()"
      ]
    },
    {
      "cell_type": "code",
      "execution_count": 32,
      "metadata": {
        "id": "1n9XSFoJbd_L"
      },
      "outputs": [],
      "source": [
        "def list_records():\n",
        "    try:\n",
        "        cursor.execute(\"SELECT * FROM AGENDA\")\n",
        "\n",
        "        # Buscando e imprimindo todas as tabelas\n",
        "        agenda_records = cursor.fetchall()\n",
        "\n",
        "    except oracledb.DatabaseError as e:\n",
        "        error, = e.args\n",
        "        print(\"Erro de banco de dados:\", error.message)\n",
        "\n",
        "    except Exception as e:\n",
        "        print(\"Erro inesperado:\", e)\n",
        "\n",
        "    print(\"Lista de registros:\\n\")\n",
        "    print(f\"{'Nome':<10} {'Sobrenome':<20} - Telefone\")\n",
        "    for registro in agenda_records:\n",
        "        print(f\"{registro[1]:<10} {registro[2]:<20} - {registro[3]:<15}\")"
      ]
    },
    {
      "cell_type": "code",
      "execution_count": 36,
      "metadata": {
        "colab": {
          "base_uri": "https://localhost:8080/"
        },
        "id": "5S5OknoJeHMp",
        "outputId": "382b42bb-76c2-4ff9-ec29-da27ef1a7afe"
      },
      "outputs": [
        {
          "name": "stdout",
          "output_type": "stream",
          "text": [
            "Lista de registros:\n",
            "\n",
            "Nome       Sobrenome            - Telefone\n",
            "Luiz       tavares              - 123123123123   \n",
            "Joao       Silva                - 345345453      \n"
          ]
        }
      ],
      "source": [
        "list_records()"
      ]
    },
    {
      "cell_type": "code",
      "execution_count": 48,
      "metadata": {
        "id": "QXPdGy_1gxP1"
      },
      "outputs": [],
      "source": [
        "def search_name(nome_busca):\n",
        "    encontrado = False\n",
        "    agenda_records = []\n",
        "\n",
        "    try:\n",
        "        query = f'''SELECT * FROM AGENDA WHERE nome = '{nome_busca}' '''\n",
        "\n",
        "        cursor.execute(query)\n",
        "\n",
        "        # Buscando e imprimindo todas as tabelas\n",
        "        agenda_records = cursor.fetchall()\n",
        "\n",
        "    except oracledb.DatabaseError as e:\n",
        "        error, = e.args\n",
        "        print(\"Erro de banco de dados:\", error.message)\n",
        "\n",
        "    except Exception as e:\n",
        "        print(\"Erro inesperado:\", e)\n",
        "\n",
        "    for linha in agenda_records:\n",
        "        if linha[1].strip().lower() == nome_busca.strip().lower():\n",
        "            print(f\"{'Nome':<10} {'Sobrenome':<20} - Telefone\")\n",
        "            print(f\"{linha[1]:<10} {linha[2]:<20} - {linha[3]:<15}\")\n",
        "            encontrado = True\n",
        "\n",
        "    if not encontrado:\n",
        "        print(\"Nenhum registro encontrado com esse nome.\")"
      ]
    },
    {
      "cell_type": "code",
      "execution_count": 51,
      "metadata": {
        "colab": {
          "base_uri": "https://localhost:8080/"
        },
        "id": "6W5r2zjHh7om",
        "outputId": "6062628c-987a-4e45-b0a9-16600dc35cc1"
      },
      "outputs": [
        {
          "name": "stdout",
          "output_type": "stream",
          "text": [
            "Nome       Sobrenome            - Telefone\n",
            "Luiz       tavares              - 123123123123   \n"
          ]
        }
      ],
      "source": [
        "search_name(\"Luiz\")"
      ]
    },
    {
      "cell_type": "code",
      "execution_count": null,
      "metadata": {
        "id": "wgHt4qwRijoD"
      },
      "outputs": [],
      "source": [
        "def delete_record(nome_remover):\n",
        "\n",
        "    print(f\"Registros com nome '{nome_remover}' removidos com sucesso.\")"
      ]
    },
    {
      "cell_type": "code",
      "execution_count": null,
      "metadata": {
        "colab": {
          "base_uri": "https://localhost:8080/"
        },
        "id": "ePDll9g9jh88",
        "outputId": "339cff51-fae6-484f-d3f6-74896cd727d9"
      },
      "outputs": [
        {
          "name": "stdout",
          "output_type": "stream",
          "text": [
            "Registros com nome 'Alberto' removidos com sucesso.\n"
          ]
        }
      ],
      "source": [
        "delete_record(\"Alberto\")"
      ]
    },
    {
      "cell_type": "code",
      "execution_count": null,
      "metadata": {
        "id": "mA0KQaI8RztU"
      },
      "outputs": [],
      "source": [
        "def update_record(nome_busca):\n",
        "    atualizados = 0\n",
        "\n",
        "    print(f\"\\n{atualizados} registro(s) atualizado(s).\")\n",
        "    return atualizados"
      ]
    },
    {
      "cell_type": "code",
      "execution_count": null,
      "metadata": {
        "colab": {
          "base_uri": "https://localhost:8080/"
        },
        "id": "BHOJpm4LlXqh",
        "outputId": "798cbcca-119d-4c28-ee9f-da7742d15587"
      },
      "outputs": [
        {
          "name": "stdout",
          "output_type": "stream",
          "text": [
            "\n",
            "Registro atual: Jorge Campos - 234242\n",
            "Novo nome (Enter para manter): \n",
            "Novo sobrenome (Enter para manter): \n",
            "Novo Telefone (Enter para manter): \n",
            "\n",
            "1 registro(s) atualizado(s).\n"
          ]
        },
        {
          "data": {
            "text/plain": [
              "1"
            ]
          },
          "execution_count": 127,
          "metadata": {},
          "output_type": "execute_result"
        }
      ],
      "source": [
        "update_record(\"Jorge\")"
      ]
    },
    {
      "cell_type": "code",
      "execution_count": null,
      "metadata": {
        "colab": {
          "base_uri": "https://localhost:8080/"
        },
        "id": "IR8rTu76Rzqv",
        "outputId": "f5b5e352-cdf9-4f82-c5a9-9369d0c361ce"
      },
      "outputs": [
        {
          "name": "stdout",
          "output_type": "stream",
          "text": [
            "\n",
            "=== Lista Telefônica ===\n",
            "1) Criar registro\n",
            "2) Listar registros\n",
            "3) Atualizar registro (por nome)\n",
            "4) Buscar registro (por nome)\n",
            "5) Remover registro (por nome)\n",
            "0) Sair\n",
            "Escolha uma opção: 2\n",
            "\n",
            "\n",
            "Lista de registros:\n",
            "\n",
            "Nome       Sobrenome            -        Telefone\n",
            "Jorge      Campos               -          234242\n",
            "Luiz       Tavares              -       345345345\n",
            "Otavio     Neves                -         4444444\n",
            "qweqwe     qweqwe               -          121231\n",
            "\n",
            "=== Lista Telefônica ===\n",
            "1) Criar registro\n",
            "2) Listar registros\n",
            "3) Atualizar registro (por nome)\n",
            "4) Buscar registro (por nome)\n",
            "5) Remover registro (por nome)\n",
            "0) Sair\n",
            "Escolha uma opção: 5\n",
            "Nome para remover: qweqwe\n",
            "\n",
            "\n",
            "Registros com nome 'qweqwe' removidos com sucesso.\n",
            "\n",
            "\n",
            "Lista de registros:\n",
            "\n",
            "Nome       Sobrenome            -        Telefone\n",
            "Jorge      Campos               -          234242\n",
            "Luiz       Tavares              -       345345345\n",
            "Otavio     Neves                -         4444444\n",
            "\n",
            "=== Lista Telefônica ===\n",
            "1) Criar registro\n",
            "2) Listar registros\n",
            "3) Atualizar registro (por nome)\n",
            "4) Buscar registro (por nome)\n",
            "5) Remover registro (por nome)\n",
            "0) Sair\n",
            "Escolha uma opção: 0\n",
            "Saindo.\n"
          ]
        }
      ],
      "source": [
        "def menu():\n",
        "    print(\"\\n=== Lista Telefônica ===\")\n",
        "    print(\"1) Criar registro\")\n",
        "    print(\"2) Listar registros\")\n",
        "    print(\"3) Atualizar registro (por nome)\")\n",
        "    print(\"4) Buscar registro (por nome)\")\n",
        "    print(\"5) Remover registro (por nome)\")\n",
        "    print(\"0) Sair\")\n",
        "\n",
        "if __name__ == \"__main__\":\n",
        "    start_conn()\n",
        "\n",
        "    while True:\n",
        "        menu()\n",
        "        opcao = input(\"Escolha uma opção: \").strip()\n",
        "\n",
        "        if opcao == \"1\":\n",
        "            insert_record()\n",
        "\n",
        "        elif opcao == \"2\":\n",
        "            print(\"\\n\")\n",
        "            list_records()\n",
        "\n",
        "        elif opcao == \"3\":\n",
        "            nome = input(\"Nome a atualizar: \").strip()\n",
        "            if nome:\n",
        "                update_record(nome)\n",
        "                print(\"\\n\")\n",
        "                list_records()\n",
        "            else:\n",
        "                print(\"Informe um nome válido.\")\n",
        "\n",
        "        elif opcao == \"4\":\n",
        "            nome = input(\"Nome para busca: \").strip()\n",
        "            if nome:\n",
        "                print(\"\\n\")\n",
        "                search_name(nome)\n",
        "            else:\n",
        "                print(\"Informe um nome válido.\")\n",
        "\n",
        "        elif opcao == \"5\":\n",
        "            nome = input(\"Nome para remover: \").strip()\n",
        "            if nome:\n",
        "                print(\"\\n\")\n",
        "                delete_record(nome)\n",
        "                print(\"\\n\")\n",
        "                list_records()\n",
        "            else:\n",
        "                print(\"Informe um nome válido.\")\n",
        "\n",
        "        elif opcao == \"0\":\n",
        "            print(\"Saindo.\")\n",
        "            break\n",
        "\n",
        "        else:\n",
        "            print(\"Opção inválida. Tente novamente.\")"
      ]
    },
    {
      "cell_type": "code",
      "execution_count": null,
      "metadata": {
        "id": "8fFrufy-RzoL"
      },
      "outputs": [],
      "source": []
    },
    {
      "cell_type": "markdown",
      "metadata": {
        "id": "uByNfQqhZgG7"
      },
      "source": [
        "# **Exemplo de funcao para digitacao**"
      ]
    },
    {
      "cell_type": "code",
      "execution_count": null,
      "metadata": {
        "id": "MofZGj6IRzl4"
      },
      "outputs": [],
      "source": [
        "def digita_inteiro(texto):\n",
        "  while True:\n",
        "    try:\n",
        "      inteiro = int(input(texto).strip())\n",
        "      return inteiro\n",
        "    except ValueError:\n",
        "      print(\"Entrada inválida. Por favor, digite um número inteiro.\")"
      ]
    },
    {
      "cell_type": "code",
      "execution_count": null,
      "metadata": {
        "colab": {
          "base_uri": "https://localhost:8080/"
        },
        "id": "llPtmkv7RzhB",
        "outputId": "770dfb88-eca4-43ac-b2f1-46f804433eeb"
      },
      "outputs": [
        {
          "name": "stdout",
          "output_type": "stream",
          "text": [
            "Digite o telefone: 1231231\n"
          ]
        }
      ],
      "source": [
        "telefone = digita_inteiro(\"Digite o telefone: \")"
      ]
    },
    {
      "cell_type": "code",
      "execution_count": null,
      "metadata": {
        "colab": {
          "base_uri": "https://localhost:8080/"
        },
        "id": "yiOg0_vzRzeE",
        "outputId": "c11b07ef-2de2-4677-fe7b-89e58981bbb8"
      },
      "outputs": [
        {
          "data": {
            "text/plain": [
              "1231231"
            ]
          },
          "execution_count": 122,
          "metadata": {},
          "output_type": "execute_result"
        }
      ],
      "source": [
        "telefone"
      ]
    },
    {
      "cell_type": "code",
      "execution_count": null,
      "metadata": {
        "id": "alKnBlvzamgr"
      },
      "outputs": [],
      "source": []
    },
    {
      "cell_type": "code",
      "execution_count": null,
      "metadata": {
        "id": "Q0GOW-i5amOO"
      },
      "outputs": [],
      "source": []
    },
    {
      "cell_type": "code",
      "execution_count": null,
      "metadata": {
        "id": "aJIN3rfTamLi"
      },
      "outputs": [],
      "source": []
    }
  ],
  "metadata": {
    "colab": {
      "provenance": []
    },
    "kernelspec": {
      "display_name": "Python 3",
      "name": "python3"
    },
    "language_info": {
      "name": "python"
    }
  },
  "nbformat": 4,
  "nbformat_minor": 0
}
