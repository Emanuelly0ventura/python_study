{
  "nbformat": 4,
  "nbformat_minor": 0,
  "metadata": {
    "colab": {
      "provenance": []
    },
    "kernelspec": {
      "name": "python3",
      "display_name": "Python 3"
    },
    "language_info": {
      "name": "python"
    }
  },
  "cells": [
    {
      "cell_type": "code",
      "source": [
        "import json\n",
        "import os\n",
        "from pathlib import Path"
      ],
      "metadata": {
        "id": "mvpgBQhtRzyf"
      },
      "execution_count": null,
      "outputs": []
    },
    {
      "cell_type": "code",
      "source": [
        "os.chdir('/content')\n",
        "diretorio = os.getcwd()\n",
        "print(diretorio)"
      ],
      "metadata": {
        "colab": {
          "base_uri": "https://localhost:8080/"
        },
        "id": "61D4tGY8nXm3",
        "outputId": "c980eb71-a102-4e38-a826-dcc3209bcbe4"
      },
      "execution_count": null,
      "outputs": [
        {
          "output_type": "stream",
          "name": "stdout",
          "text": [
            "/content\n"
          ]
        }
      ]
    },
    {
      "cell_type": "code",
      "source": [
        "BASE = Path(diretorio)\n",
        "ARQ = BASE / 'lista_telefonica.json'\n",
        "print(BASE)\n",
        "print(ARQ)"
      ],
      "metadata": {
        "colab": {
          "base_uri": "https://localhost:8080/"
        },
        "id": "utizHkZ5nYeq",
        "outputId": "5f6236ff-6ac6-4a69-e62f-b21090194b3a"
      },
      "execution_count": null,
      "outputs": [
        {
          "output_type": "stream",
          "name": "stdout",
          "text": [
            "/content\n",
            "/content/lista_telefonica.json\n"
          ]
        }
      ]
    },
    {
      "cell_type": "code",
      "source": [
        "def digita_inteiro(texto):\n",
        "  while True:\n",
        "    try:\n",
        "      inteiro = int(input(texto).strip())\n",
        "      return inteiro\n",
        "    except ValueError:\n",
        "      print(\"Entrada inválida. Por favor, digite um número inteiro.\")"
      ],
      "metadata": {
        "id": "zStfZzfpaIGp"
      },
      "execution_count": null,
      "outputs": []
    },
    {
      "cell_type": "code",
      "source": [
        "def inicializar_arquivo():\n",
        "    if not os.path.exists(ARQ):\n",
        "        try:\n",
        "            with open(ARQ, 'r', encoding='utf-8') as f:\n",
        "                escritor = json.load(f)\n",
        "        except FileNotFoundError:\n",
        "            print('Arquivo não encontrado. Verifique o caminho.')"
      ],
      "metadata": {
        "id": "kgksK3GSaBD2"
      },
      "execution_count": null,
      "outputs": []
    },
    {
      "cell_type": "code",
      "source": [
        "def criar_registro():\n",
        "\n",
        "    #\n",
        "    # MUDAR INPUT USANDO TRY\n",
        "    #\n",
        "\n",
        "    nome = input(\"Digite o nome: \").strip()\n",
        "    sobrenome = input(\"Digite o sobrenome: \").strip()\n",
        "    telefone = digita_inteiro(\"Digite o telefone: \")\n",
        "\n",
        "    #\n",
        "    #  VERIFICAR CONSISTÊNCIA DOS DADOS\n",
        "    #\n",
        "\n",
        "    try:\n",
        "      with open(ARQ, 'r', encoding='utf-8') as f:\n",
        "        escritor = json.load(f)\n",
        "    except FileNotFoundError:\n",
        "      print('Arquivo não encontrado. Verifique o caminho.')\n",
        "\n",
        "    novo = {\"nome\": nome, \"sobrenome\": sobrenome, \"telefone\": telefone}\n",
        "    escritor.append(novo)\n",
        "\n",
        "    # COLOCAR TRY\n",
        "\n",
        "    with open(ARQ, 'w', encoding='utf-8') as f:\n",
        "        #json.dump(escritor, f, indent=2, ensure_ascii=False)\n",
        "        json.dump(escritor, f, separators=(',', ':'), ensure_ascii=False)\n",
        "\n",
        "    print(\"Registro adicionado com sucesso.\")"
      ],
      "metadata": {
        "id": "y-FN6Yq6aCqj"
      },
      "execution_count": null,
      "outputs": []
    },
    {
      "cell_type": "code",
      "source": [
        "criar_registro()"
      ],
      "metadata": {
        "colab": {
          "base_uri": "https://localhost:8080/"
        },
        "id": "Sepl_yLqmPxx",
        "outputId": "10b3f6e2-d869-46a8-b1b2-bc139e8c1a51"
      },
      "execution_count": null,
      "outputs": [
        {
          "output_type": "stream",
          "name": "stdout",
          "text": [
            "Digite o nome: qweqwe\n",
            "Digite o sobrenome: qweqwe\n",
            "Digite o telefone: 121231\n",
            "Registro adicionado com sucesso.\n"
          ]
        }
      ]
    },
    {
      "cell_type": "code",
      "source": [
        "def listar_registros():\n",
        "    try:\n",
        "      with open(ARQ, 'r', encoding='utf-8') as f:\n",
        "        escritor = json.load(f)\n",
        "    except FileNotFoundError:\n",
        "      print('Arquivo não encontrado. Verifique o caminho.')\n",
        "\n",
        "    print(\"Lista de registros:\\n\")\n",
        "    print(f\"{'Nome':<10} {'Sobrenome':<20} -        Telefone\")\n",
        "    for registro in escritor:\n",
        "        print(f\"{registro['nome']:<10} {registro['sobrenome']:<20} - {registro['telefone']:15.0f}\")"
      ],
      "metadata": {
        "id": "1n9XSFoJbd_L"
      },
      "execution_count": null,
      "outputs": []
    },
    {
      "cell_type": "code",
      "source": [
        "listar_registros()"
      ],
      "metadata": {
        "id": "5S5OknoJeHMp",
        "colab": {
          "base_uri": "https://localhost:8080/"
        },
        "outputId": "4d16f181-d895-49fc-8210-4a75c34eb5e0"
      },
      "execution_count": null,
      "outputs": [
        {
          "output_type": "stream",
          "name": "stdout",
          "text": [
            "Lista de registros:\n",
            "\n",
            "Nome       Sobrenome            -        Telefone\n",
            "Jorge      Campos               -          234242\n",
            "Luiz       Tavares              -       345345345\n",
            "Otavio     Neves                -         4444444\n"
          ]
        }
      ]
    },
    {
      "cell_type": "code",
      "source": [
        "def buscar_registro(nome_busca):\n",
        "    encontrado = False\n",
        "\n",
        "    # COLOCAR TRY\n",
        "\n",
        "    with open(ARQ, 'r', encoding='utf-8') as f:\n",
        "        leitor = json.load(f)\n",
        "\n",
        "        for linha in leitor:\n",
        "            if linha[\"nome\"].strip().lower() == nome_busca.strip().lower():\n",
        "                print(f\"{'Nome':<10} {'Sobrenome':<20} -        Telefone\")\n",
        "                print(f\"{linha['nome']:<10} {linha['sobrenome']:<20} - {linha['telefone']:15.0f}\")\n",
        "                encontrado = True\n",
        "    if not encontrado:\n",
        "        print(\"Nenhum registro encontrado com esse nome.\")"
      ],
      "metadata": {
        "id": "QXPdGy_1gxP1"
      },
      "execution_count": null,
      "outputs": []
    },
    {
      "cell_type": "code",
      "source": [
        "buscar_registro(\"  luIz   \")"
      ],
      "metadata": {
        "id": "6W5r2zjHh7om",
        "colab": {
          "base_uri": "https://localhost:8080/"
        },
        "outputId": "2754b275-d5dc-4410-ba78-f4b153ddd4fb"
      },
      "execution_count": null,
      "outputs": [
        {
          "output_type": "stream",
          "name": "stdout",
          "text": [
            "Nome       Sobrenome            -        Telefone\n",
            "Luiz       Tavares              -       345345345\n"
          ]
        }
      ]
    },
    {
      "cell_type": "code",
      "source": [
        "def remover_registro(nome_remover):\n",
        "    # COLOCAR TRY\n",
        "\n",
        "    with open(ARQ, 'r', encoding='utf-8') as f:\n",
        "        leitor = json.load(f)\n",
        "\n",
        "    novos_registros = [linha for linha in leitor if linha[\"nome\"].strip().lower() != nome_remover.strip().lower()]\n",
        "\n",
        "    # COLOCAR TRY\n",
        "\n",
        "    with open(ARQ, 'w', encoding='utf-8') as f:\n",
        "        json.dump(novos_registros, f, indent=2, ensure_ascii=False)\n",
        "\n",
        "    print(f\"Registros com nome '{nome_remover}' removidos com sucesso.\")"
      ],
      "metadata": {
        "id": "wgHt4qwRijoD"
      },
      "execution_count": null,
      "outputs": []
    },
    {
      "cell_type": "code",
      "source": [
        "remover_registro(\"Alberto\")"
      ],
      "metadata": {
        "id": "ePDll9g9jh88",
        "colab": {
          "base_uri": "https://localhost:8080/"
        },
        "outputId": "339cff51-fae6-484f-d3f6-74896cd727d9"
      },
      "execution_count": null,
      "outputs": [
        {
          "output_type": "stream",
          "name": "stdout",
          "text": [
            "Registros com nome 'Alberto' removidos com sucesso.\n"
          ]
        }
      ]
    },
    {
      "cell_type": "code",
      "source": [
        "def atualizar_registro(nome_busca):\n",
        "    # COLOCAR TRY\n",
        "\n",
        "    with open(ARQ, 'r', encoding='utf-8') as f:\n",
        "        leitor = json.load(f)\n",
        "\n",
        "    if not leitor:\n",
        "        print(\"Nenhum registro para atualizar.\")\n",
        "        return 0\n",
        "\n",
        "    atualizados = 0\n",
        "    for linha in leitor:\n",
        "        if linha[\"nome\"].strip().lower() == nome_busca.strip().lower():\n",
        "            print(f\"\\nRegistro atual: {linha['nome']} {linha['sobrenome']} - {linha['telefone']}\")\n",
        "            novo_nome = input(\"Novo nome (Enter para manter): \").strip()\n",
        "            novo_sobrenome = input(\"Novo sobrenome (Enter para manter): \").strip()\n",
        "            novo_telefone = input(\"Novo Telefone (Enter para manter): \").strip()\n",
        "\n",
        "            if novo_nome:\n",
        "                linha[\"nome\"] = novo_nome\n",
        "\n",
        "            if novo_sobrenome:\n",
        "                linha[\"sobrenome\"] = novo_sobrenome\n",
        "\n",
        "            if novo_telefone:\n",
        "                linha[\"telefone\"] = int(novo_telefone)\n",
        "\n",
        "            atualizados += 1\n",
        "\n",
        "    # Regrava arquivo apenas se houve mudanças\n",
        "    if atualizados > 0:\n",
        "        # COLOCAR TRY\n",
        "\n",
        "        with open(ARQ, 'w', encoding='utf-8') as f:\n",
        "            json.dump(leitor, f, indent=2, ensure_ascii=False)\n",
        "\n",
        "    print(f\"\\n{atualizados} registro(s) atualizado(s).\")\n",
        "    return atualizados"
      ],
      "metadata": {
        "id": "mA0KQaI8RztU"
      },
      "execution_count": null,
      "outputs": []
    },
    {
      "cell_type": "code",
      "source": [
        "atualizar_registro(\"Jorge\")"
      ],
      "metadata": {
        "id": "BHOJpm4LlXqh",
        "colab": {
          "base_uri": "https://localhost:8080/"
        },
        "outputId": "798cbcca-119d-4c28-ee9f-da7742d15587"
      },
      "execution_count": null,
      "outputs": [
        {
          "output_type": "stream",
          "name": "stdout",
          "text": [
            "\n",
            "Registro atual: Jorge Campos - 234242\n",
            "Novo nome (Enter para manter): \n",
            "Novo sobrenome (Enter para manter): \n",
            "Novo Telefone (Enter para manter): \n",
            "\n",
            "1 registro(s) atualizado(s).\n"
          ]
        },
        {
          "output_type": "execute_result",
          "data": {
            "text/plain": [
              "1"
            ]
          },
          "metadata": {},
          "execution_count": 127
        }
      ]
    },
    {
      "cell_type": "code",
      "source": [
        "def menu():\n",
        "    print(\"\\n=== Lista Telefônica ===\")\n",
        "    print(\"1) Criar registro\")\n",
        "    print(\"2) Listar registros\")\n",
        "    print(\"3) Atualizar registro (por nome)\")\n",
        "    print(\"4) Buscar registro (por nome)\")\n",
        "    print(\"5) Remover registro (por nome)\")\n",
        "    print(\"0) Sair\")\n",
        "\n",
        "if __name__ == \"__main__\":\n",
        "    inicializar_arquivo()\n",
        "\n",
        "    while True:\n",
        "        menu()\n",
        "        opcao = input(\"Escolha uma opção: \").strip()\n",
        "\n",
        "        if opcao == \"1\":\n",
        "            criar_registro()\n",
        "\n",
        "        elif opcao == \"2\":\n",
        "            print(\"\\n\")\n",
        "            listar_registros()\n",
        "\n",
        "        elif opcao == \"3\":\n",
        "            nome = input(\"Nome a atualizar: \").strip()\n",
        "            if nome:\n",
        "                atualizar_registro(nome)\n",
        "                print(\"\\n\")\n",
        "                listar_registros()\n",
        "            else:\n",
        "                print(\"Informe um nome válido.\")\n",
        "\n",
        "        elif opcao == \"4\":\n",
        "            nome = input(\"Nome para busca: \").strip()\n",
        "            if nome:\n",
        "                print(\"\\n\")\n",
        "                buscar_registro(nome)\n",
        "            else:\n",
        "                print(\"Informe um nome válido.\")\n",
        "\n",
        "        elif opcao == \"5\":\n",
        "            nome = input(\"Nome para remover: \").strip()\n",
        "            if nome:\n",
        "                print(\"\\n\")\n",
        "                remover_registro(nome)\n",
        "                print(\"\\n\")\n",
        "                listar_registros()\n",
        "            else:\n",
        "                print(\"Informe um nome válido.\")\n",
        "\n",
        "        elif opcao == \"0\":\n",
        "            print(\"Saindo.\")\n",
        "            break\n",
        "\n",
        "        else:\n",
        "            print(\"Opção inválida. Tente novamente.\")"
      ],
      "metadata": {
        "id": "IR8rTu76Rzqv",
        "colab": {
          "base_uri": "https://localhost:8080/"
        },
        "outputId": "f5b5e352-cdf9-4f82-c5a9-9369d0c361ce"
      },
      "execution_count": null,
      "outputs": [
        {
          "output_type": "stream",
          "name": "stdout",
          "text": [
            "\n",
            "=== Lista Telefônica ===\n",
            "1) Criar registro\n",
            "2) Listar registros\n",
            "3) Atualizar registro (por nome)\n",
            "4) Buscar registro (por nome)\n",
            "5) Remover registro (por nome)\n",
            "0) Sair\n",
            "Escolha uma opção: 2\n",
            "\n",
            "\n",
            "Lista de registros:\n",
            "\n",
            "Nome       Sobrenome            -        Telefone\n",
            "Jorge      Campos               -          234242\n",
            "Luiz       Tavares              -       345345345\n",
            "Otavio     Neves                -         4444444\n",
            "qweqwe     qweqwe               -          121231\n",
            "\n",
            "=== Lista Telefônica ===\n",
            "1) Criar registro\n",
            "2) Listar registros\n",
            "3) Atualizar registro (por nome)\n",
            "4) Buscar registro (por nome)\n",
            "5) Remover registro (por nome)\n",
            "0) Sair\n",
            "Escolha uma opção: 5\n",
            "Nome para remover: qweqwe\n",
            "\n",
            "\n",
            "Registros com nome 'qweqwe' removidos com sucesso.\n",
            "\n",
            "\n",
            "Lista de registros:\n",
            "\n",
            "Nome       Sobrenome            -        Telefone\n",
            "Jorge      Campos               -          234242\n",
            "Luiz       Tavares              -       345345345\n",
            "Otavio     Neves                -         4444444\n",
            "\n",
            "=== Lista Telefônica ===\n",
            "1) Criar registro\n",
            "2) Listar registros\n",
            "3) Atualizar registro (por nome)\n",
            "4) Buscar registro (por nome)\n",
            "5) Remover registro (por nome)\n",
            "0) Sair\n",
            "Escolha uma opção: 0\n",
            "Saindo.\n"
          ]
        }
      ]
    },
    {
      "cell_type": "code",
      "source": [],
      "metadata": {
        "id": "8fFrufy-RzoL"
      },
      "execution_count": null,
      "outputs": []
    },
    {
      "cell_type": "markdown",
      "source": [
        "# **Exemplo de funcao para digitacao**"
      ],
      "metadata": {
        "id": "uByNfQqhZgG7"
      }
    },
    {
      "cell_type": "code",
      "source": [
        "def digita_inteiro(texto):\n",
        "  while True:\n",
        "    try:\n",
        "      inteiro = int(input(texto).strip())\n",
        "      return inteiro\n",
        "    except ValueError:\n",
        "      print(\"Entrada inválida. Por favor, digite um número inteiro.\")"
      ],
      "metadata": {
        "id": "MofZGj6IRzl4"
      },
      "execution_count": null,
      "outputs": []
    },
    {
      "cell_type": "code",
      "source": [
        "telefone = digita_inteiro(\"Digite o telefone: \")"
      ],
      "metadata": {
        "id": "llPtmkv7RzhB",
        "colab": {
          "base_uri": "https://localhost:8080/"
        },
        "outputId": "770dfb88-eca4-43ac-b2f1-46f804433eeb"
      },
      "execution_count": null,
      "outputs": [
        {
          "name": "stdout",
          "output_type": "stream",
          "text": [
            "Digite o telefone: 1231231\n"
          ]
        }
      ]
    },
    {
      "cell_type": "code",
      "source": [
        "telefone"
      ],
      "metadata": {
        "id": "yiOg0_vzRzeE",
        "colab": {
          "base_uri": "https://localhost:8080/"
        },
        "outputId": "c11b07ef-2de2-4677-fe7b-89e58981bbb8"
      },
      "execution_count": null,
      "outputs": [
        {
          "output_type": "execute_result",
          "data": {
            "text/plain": [
              "1231231"
            ]
          },
          "metadata": {},
          "execution_count": 122
        }
      ]
    },
    {
      "cell_type": "code",
      "source": [],
      "metadata": {
        "id": "alKnBlvzamgr"
      },
      "execution_count": null,
      "outputs": []
    },
    {
      "cell_type": "code",
      "source": [],
      "metadata": {
        "id": "Q0GOW-i5amOO"
      },
      "execution_count": null,
      "outputs": []
    },
    {
      "cell_type": "code",
      "source": [],
      "metadata": {
        "id": "aJIN3rfTamLi"
      },
      "execution_count": null,
      "outputs": []
    }
  ]
}